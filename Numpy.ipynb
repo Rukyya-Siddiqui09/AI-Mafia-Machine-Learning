{
 "cells": [
  {
   "cell_type": "code",
   "execution_count": 2,
   "id": "8a9d9aa9-d00d-4769-95cb-973244e449a4",
   "metadata": {},
   "outputs": [
    {
     "name": "stdout",
     "output_type": "stream",
     "text": [
      "Requirement already satisfied: numpy in c:\\users\\sumaiya\\anaconda3\\lib\\site-packages (2.1.3)\n"
     ]
    }
   ],
   "source": [
    "!pip install numpy"
   ]
  },
  {
   "cell_type": "code",
   "execution_count": 3,
   "id": "5bbe79d3-d01a-49c8-a4e8-3df7ee4b999b",
   "metadata": {},
   "outputs": [],
   "source": [
    "import numpy as np"
   ]
  },
  {
   "cell_type": "markdown",
   "id": "e2925d4d-7994-4cea-9a86-b402c11e3292",
   "metadata": {},
   "source": [
    "*****************\n",
    "Arrays\n",
    "*****************"
   ]
  },
  {
   "cell_type": "code",
   "execution_count": 4,
   "id": "95d3a71e-3b40-4ce3-929f-308360feb1da",
   "metadata": {},
   "outputs": [
    {
     "name": "stdout",
     "output_type": "stream",
     "text": [
      "Array is of type: <class 'numpy.ndarray'>\n",
      "No. of dimensions:  2\n",
      "Shape of array:  (2, 3)\n",
      "Size of array: 6\n",
      "Array stores element of type: int64\n"
     ]
    }
   ],
   "source": [
    "arr=np.array([[1,2,3],\n",
    "              [4,5,6]])\n",
    "\n",
    "print(\"Array is of type:\",type(arr))\n",
    "print(\"No. of dimensions: \", arr.ndim)\n",
    "print(\"Shape of array: \", arr.shape)\n",
    "print(\"Size of array:\",arr.size)\n",
    "print(\"Array stores element of type:\",arr.dtype)\n"
   ]
  },
  {
   "cell_type": "markdown",
   "id": "f68c729f-d4ee-4a86-8aff-269e846d62a2",
   "metadata": {},
   "source": [
    "*****************\n",
    "Array Creation\n",
    "*****************"
   ]
  },
  {
   "cell_type": "code",
   "execution_count": 5,
   "id": "4771fbe7-8b75-420d-9e82-606597b18960",
   "metadata": {},
   "outputs": [
    {
     "name": "stdout",
     "output_type": "stream",
     "text": [
      "Array created using passed list:\n",
      " [[1. 2. 4.]\n",
      " [5. 8. 7.]]\n",
      "\n",
      "An array created using passed tuple:\n",
      " [1 3 2]\n",
      "\n",
      "An array initialized with all zeros:\n",
      " [[0. 0. 0. 0.]\n",
      " [0. 0. 0. 0.]\n",
      " [0. 0. 0. 0.]]\n",
      "\n",
      "An array initialized with all 6s.Array type is complex:\n",
      " [[6.+0.j 6.+0.j 6.+0.j]\n",
      " [6.+0.j 6.+0.j 6.+0.j]\n",
      " [6.+0.j 6.+0.j 6.+0.j]]\n",
      "\n",
      "A random array:\n",
      " [[0.58443796 0.30815725]\n",
      " [0.49972472 0.0751254 ]]\n",
      "\n",
      "A sequential array with steps of 5:\n",
      " [ 0  5 10 15 20 25]\n",
      "\n",
      "A sequential array with 10 values between 0 and 5:\n",
      " [0.         0.55555556 1.11111111 1.66666667 2.22222222 2.77777778\n",
      " 3.33333333 3.88888889 4.44444444 5.        ]\n",
      "\n",
      "Original array:\n",
      " [[1 2 3 4]\n",
      " [5 2 3 6]\n",
      " [1 2 0 1]]\n",
      "\n",
      "Reshaped array:\n",
      " [[[1 2 3]\n",
      "  [4 5 2]]\n",
      "\n",
      " [[3 6 1]\n",
      "  [2 0 1]]]\n"
     ]
    }
   ],
   "source": [
    "#creating numpy array  from list  with type float\n",
    "a=np.array([[1,2,4],[5,8,7]], dtype=\"float\")\n",
    "print(\"Array created using passed list:\\n\",a)\n",
    "\n",
    "#creating array from tuple\n",
    "b=np.array((1,3,2))\n",
    "print(\"\\nAn array created using passed tuple:\\n\",b)\n",
    "\n",
    "#creating a 3*4 array with all zeros\n",
    "c=np.zeros((3,4))\n",
    "print(\"\\nAn array initialized with all zeros:\\n\", c)\n",
    "\n",
    "#constant value array of complex type\n",
    "d=np.full((3,3),6,dtype='complex')\n",
    "print(\"\\nAn array initialized with all 6s.Array type is complex:\\n\",d)\n",
    "\n",
    "#create an array with random values\n",
    "e=np.random.random((2,2))\n",
    "print(\"\\nA random array:\\n\", e)\n",
    "\n",
    "#create a sequence of integer from 0 to 30 with steps of 5\n",
    "f=np.arange(0,30,5)\n",
    "print(\"\\nA sequential array with steps of 5:\\n\",f)\n",
    "\n",
    "#create a sequence of 10 values in range 0 to 5\n",
    "g=np.linspace(0,5,10)\n",
    "print(\"\\nA sequential array with 10 values between 0 and 5:\\n\",g)\n",
    "\n",
    "# reshaping 3X4 array to 2X2X3 array\n",
    "arr=np.array([[1,2,3,4],\n",
    "              [5,2,3,6],\n",
    "              [1,2,0,1]])\n",
    "newarr=arr.reshape(2,2,3)\n",
    "print(\"\\nOriginal array:\\n\",arr)\n",
    "print(\"\\nReshaped array:\\n\",newarr)\n"
   ]
  },
  {
   "cell_type": "code",
   "execution_count": 18,
   "id": "e3d0d867-86b2-4bca-9369-9beebeb4adc6",
   "metadata": {},
   "outputs": [
    {
     "data": {
      "text/plain": [
       "\u001b[1;31mDocstring:\u001b[0m\n",
       "arange([start,] stop[, step,], dtype=None, *, device=None, like=None)\n",
       "\n",
       "Return evenly spaced values within a given interval.\n",
       "\n",
       "``arange`` can be called with a varying number of positional arguments:\n",
       "\n",
       "* ``arange(stop)``: Values are generated within the half-open interval\n",
       "  ``[0, stop)`` (in other words, the interval including `start` but\n",
       "  excluding `stop`).\n",
       "* ``arange(start, stop)``: Values are generated within the half-open\n",
       "  interval ``[start, stop)``.\n",
       "* ``arange(start, stop, step)`` Values are generated within the half-open\n",
       "  interval ``[start, stop)``, with spacing between values given by\n",
       "  ``step``.\n",
       "\n",
       "For integer arguments the function is roughly equivalent to the Python\n",
       "built-in :py:class:`range`, but returns an ndarray rather than a ``range``\n",
       "instance.\n",
       "\n",
       "When using a non-integer step, such as 0.1, it is often better to use\n",
       "`numpy.linspace`.\n",
       "\n",
       "See the Warning sections below for more information.\n",
       "\n",
       "Parameters\n",
       "----------\n",
       "start : integer or real, optional\n",
       "    Start of interval.  The interval includes this value.  The default\n",
       "    start value is 0.\n",
       "stop : integer or real\n",
       "    End of interval.  The interval does not include this value, except\n",
       "    in some cases where `step` is not an integer and floating point\n",
       "    round-off affects the length of `out`.\n",
       "step : integer or real, optional\n",
       "    Spacing between values.  For any output `out`, this is the distance\n",
       "    between two adjacent values, ``out[i+1] - out[i]``.  The default\n",
       "    step size is 1.  If `step` is specified as a position argument,\n",
       "    `start` must also be given.\n",
       "dtype : dtype, optional\n",
       "    The type of the output array.  If `dtype` is not given, infer the data\n",
       "    type from the other input arguments.\n",
       "device : str, optional\n",
       "    The device on which to place the created array. Default: ``None``.\n",
       "    For Array-API interoperability only, so must be ``\"cpu\"`` if passed.\n",
       "\n",
       "    .. versionadded:: 2.0.0\n",
       "like : array_like, optional\n",
       "    Reference object to allow the creation of arrays which are not\n",
       "    NumPy arrays. If an array-like passed in as ``like`` supports\n",
       "    the ``__array_function__`` protocol, the result will be defined\n",
       "    by it. In this case, it ensures the creation of an array object\n",
       "    compatible with that passed in via this argument.\n",
       "\n",
       "    .. versionadded:: 1.20.0\n",
       "\n",
       "Returns\n",
       "-------\n",
       "arange : ndarray\n",
       "    Array of evenly spaced values.\n",
       "\n",
       "    For floating point arguments, the length of the result is\n",
       "    ``ceil((stop - start)/step)``.  Because of floating point overflow,\n",
       "    this rule may result in the last element of `out` being greater\n",
       "    than `stop`.\n",
       "\n",
       "Warnings\n",
       "--------\n",
       "The length of the output might not be numerically stable.\n",
       "\n",
       "Another stability issue is due to the internal implementation of\n",
       "`numpy.arange`.\n",
       "The actual step value used to populate the array is\n",
       "``dtype(start + step) - dtype(start)`` and not `step`. Precision loss\n",
       "can occur here, due to casting or due to using floating points when\n",
       "`start` is much larger than `step`. This can lead to unexpected\n",
       "behaviour. For example::\n",
       "\n",
       "  >>> np.arange(0, 5, 0.5, dtype=int)\n",
       "  array([0, 0, 0, 0, 0, 0, 0, 0, 0, 0])\n",
       "  >>> np.arange(-3, 3, 0.5, dtype=int)\n",
       "  array([-3, -2, -1,  0,  1,  2,  3,  4,  5,  6,  7,  8])\n",
       "\n",
       "In such cases, the use of `numpy.linspace` should be preferred.\n",
       "\n",
       "The built-in :py:class:`range` generates :std:doc:`Python built-in integers\n",
       "that have arbitrary size <python:c-api/long>`, while `numpy.arange`\n",
       "produces `numpy.int32` or `numpy.int64` numbers. This may result in\n",
       "incorrect results for large integer values::\n",
       "\n",
       "  >>> power = 40\n",
       "  >>> modulo = 10000\n",
       "  >>> x1 = [(n ** power) % modulo for n in range(8)]\n",
       "  >>> x2 = [(n ** power) % modulo for n in np.arange(8)]\n",
       "  >>> print(x1)\n",
       "  [0, 1, 7776, 8801, 6176, 625, 6576, 4001]  # correct\n",
       "  >>> print(x2)\n",
       "  [0, 1, 7776, 7185, 0, 5969, 4816, 3361]  # incorrect\n",
       "\n",
       "See Also\n",
       "--------\n",
       "numpy.linspace : Evenly spaced numbers with careful handling of endpoints.\n",
       "numpy.ogrid: Arrays of evenly spaced numbers in N-dimensions.\n",
       "numpy.mgrid: Grid-shaped arrays of evenly spaced numbers in N-dimensions.\n",
       ":ref:`how-to-partition`\n",
       "\n",
       "Examples\n",
       "--------\n",
       ">>> import numpy as np\n",
       ">>> np.arange(3)\n",
       "array([0, 1, 2])\n",
       ">>> np.arange(3.0)\n",
       "array([ 0.,  1.,  2.])\n",
       ">>> np.arange(3,7)\n",
       "array([3, 4, 5, 6])\n",
       ">>> np.arange(3,7,2)\n",
       "array([3, 5])\n",
       "\u001b[1;31mType:\u001b[0m      builtin_function_or_method"
      ]
     },
     "metadata": {},
     "output_type": "display_data"
    }
   ],
   "source": [
    "#fDocumentation\n",
    "np.arange?"
   ]
  },
  {
   "cell_type": "markdown",
   "id": "e7587523-becb-4482-ab45-7460bbce0632",
   "metadata": {},
   "source": [
    "*****************\n",
    "Array Indexing\n",
    "*****************"
   ]
  },
  {
   "cell_type": "code",
   "execution_count": 6,
   "id": "77266fc6-02f7-4307-a705-7837ed2dead0",
   "metadata": {},
   "outputs": [
    {
     "name": "stdout",
     "output_type": "stream",
     "text": [
      "\n",
      "Array:\n",
      " [[-1.   2.   0.   4. ]\n",
      " [ 4.  -0.5  6.   0. ]\n",
      " [ 2.6  0.   7.   8. ]\n",
      " [ 3.  -7.   4.   2. ]]\n",
      "Array from 2nd row to 3rd col:\n",
      " [[ 4.  -0.5  6. ]\n",
      " [ 2.6  0.   7. ]\n",
      " [ 3.  -7.   4. ]]\n",
      "Array with skipping columns in size 2:\n",
      " [[4.  6. ]\n",
      " [2.6 7. ]\n",
      " [3.  4. ]]\n"
     ]
    }
   ],
   "source": [
    "arr=np.array([[-1,2,0,4],\n",
    "              [4,-0.5,6,0],\n",
    "              [2.6,0,7,8],\n",
    "              [3,-7,4,2.0]])\n",
    "\n",
    "print(\"\\nArray:\\n\",arr)\n",
    "print(\"Array from 2nd row to 3rd col:\\n\",arr[1:,:3])\n",
    "print(\"Array with skipping columns in size 2:\\n\",arr[1:,:3:2])\n",
    "#print(\"\\nskipping rows and cols in size 2:\\n\",arr[1::2, :3:2])\n"
   ]
  },
  {
   "cell_type": "code",
   "execution_count": 7,
   "id": "a5d93ff0-5f38-4790-8dbc-cdb220414587",
   "metadata": {},
   "outputs": [
    {
     "name": "stdout",
     "output_type": "stream",
     "text": [
      "\n",
      "Array:\n",
      " [[-1.   2.   0.   4. ]\n",
      " [ 4.  -0.5  6.   0. ]\n",
      " [ 2.6  0.   7.   8. ]\n",
      " [ 3.  -7.   4.   2. ]]\n",
      "Array with first 2 rows and alternate columns(0 and 2):\n",
      " [[-1.  0.]\n",
      " [ 4.  6.]]\n",
      "\n",
      "Elements at indices (0,3),(1,2),(2,1),(3,0):\n",
      " [4. 6. 0. 3.]\n",
      "\n",
      "Elements greater than 0:\n",
      " [2.  4.  4.  6.  2.6 7.  8.  3.  4.  2. ]\n"
     ]
    }
   ],
   "source": [
    "arr = np.array([[-1, 2, 0, 4],\n",
    "                [4, -0.5, 6, 0],\n",
    "                [2.6, 0, 7, 8],\n",
    "                [3, -7, 4, 2.0]])\n",
    "\n",
    "print(\"\\nArray:\\n\",arr)\n",
    "#slicing\n",
    "temp=arr[:2,::2]\n",
    "print(\"Array with first 2 rows and alternate columns(0 and 2):\\n\", temp)\n",
    "\n",
    "#integer array indexing example\n",
    "temp=arr[[0,1,2,3],[3,2,1,0]]\n",
    "print(\"\\nElements at indices (0,3),(1,2),(2,1),(3,0):\\n\",temp)\n",
    "\n",
    "#boolean array indexing example\n",
    "cond=arr>0\n",
    "temp=arr[cond]\n",
    "print(\"\\nElements greater than 0:\\n\",temp)"
   ]
  },
  {
   "cell_type": "markdown",
   "id": "d3acd8f5-c244-46ff-b62a-83e8158007d8",
   "metadata": {},
   "source": [
    "*****************\n",
    "Basic Operation\n",
    "*****************"
   ]
  },
  {
   "cell_type": "code",
   "execution_count": 9,
   "id": "8626713d-f94b-49b6-adf5-28491c6d179d",
   "metadata": {},
   "outputs": [
    {
     "name": "stdout",
     "output_type": "stream",
     "text": [
      "Adding 1 to every element: [2 3 6 4]\n",
      "Subtracting 3 from every element: [-2 -1  2  0]\n",
      "Multiplying each element by 10: [10 20 50 30]\n",
      "Squaring each element: [ 1  4 25  9]\n",
      "Doubled each element of original array: [ 2  4 10  6]\n",
      "\n",
      "Original array:\n",
      " [[1 2 3]\n",
      " [3 4 5]\n",
      " [9 6 0]]\n",
      "Transpose of array:\n",
      " [[1 3 9]\n",
      " [2 4 6]\n",
      " [3 5 0]]\n"
     ]
    }
   ],
   "source": [
    "#Operations on single array -for more refer note|\n",
    "a=np.array([1,2,5,3])\n",
    "print(\"Adding 1 to every element:\",a+1)\n",
    "print(\"Subtracting 3 from every element:\",a-3)\n",
    "print(\"Multiplying each element by 10:\",a*10)\n",
    "print(\"Squaring each element:\", a**2)\n",
    "a *= 2\n",
    "print(\"Doubled each element of original array:\", a)\n",
    "\n",
    "# transpose of array \n",
    "a = np.array([[1, 2, 3], [3, 4, 5], [9, 6, 0]])\n",
    "print(\"\\nOriginal array:\\n\", a)\n",
    "print(\"Transpose of array:\\n\", a.T)"
   ]
  },
  {
   "cell_type": "markdown",
   "id": "d075b3e7-e808-415e-97d1-92066ef1527c",
   "metadata": {},
   "source": [
    "*****************\n",
    "Sorting array\n",
    "*****************"
   ]
  },
  {
   "cell_type": "code",
   "execution_count": 11,
   "id": "dadada14-23fe-48ba-b464-c2e52c6e874d",
   "metadata": {},
   "outputs": [
    {
     "name": "stdout",
     "output_type": "stream",
     "text": [
      "Array elements in sorted order:\n",
      " [-1  0  1  2  3  4  4  5  6]\n",
      "Row-wise sorted array:\n",
      " [[ 1  2  4]\n",
      " [ 3  4  6]\n",
      " [-1  0  5]]\n",
      "Column wise sort by applying merge-sort:\n",
      " [[ 0 -1  2]\n",
      " [ 1  4  5]\n",
      " [ 3  4  6]]\n",
      "\n",
      "Array sorted by names:\n",
      " [(b'Aakash', 2009, 9. ) (b'Ajay', 2008, 8.7) (b'Hrithik', 2009, 8.5)\n",
      " (b'Pankaj', 2008, 7.9)]\n",
      "Array sorted by grauation year and then cgpa:\n",
      " [(b'Pankaj', 2008, 7.9) (b'Ajay', 2008, 8.7) (b'Hrithik', 2009, 8.5)\n",
      " (b'Aakash', 2009, 9. )]\n"
     ]
    }
   ],
   "source": [
    "a = np.array([[1, 4, 2],\n",
    "              [3, 4,6],\n",
    "              [0, -1, 5]])\n",
    "\n",
    "# sorted array\n",
    "print(\"Array elements in sorted order:\\n\", np.sort(a, axis = None))\n",
    "\n",
    "# sort array row-wise\n",
    "print(\"Row-wise sorted array:\\n\", np.sort(a, axis = 1))\n",
    "\n",
    "# specify sort algorithm\n",
    "print(\"Column wise sort by applying merge-sort:\\n\", np.sort(a, axis = 0, kind = 'mergesort'))\n",
    "\n",
    "# example to show sorting of structured array\n",
    "## set alias names for dtypes\n",
    "dtypes = [('name', 'S10'), ('grad_year', int), ('cgpa', float)]\n",
    "## values to be put in array\n",
    "values = [('Hrithik', 2009, 8.5), ('Ajay', 2008, 8.7), ('Pankaj', 2008, 7.9), ('Aakash', 2009, 9.0)]\n",
    "## creating array\n",
    "arr = np.array(values, dtype = dtypes)\n",
    "print(\"\\nArray sorted by names:\\n\", np.sort(arr, order = 'name'))\n",
    "print(\"Array sorted by grauation year and then cgpa:\\n\", np.sort(arr, order = ['grad_year', 'cgpa']))"
   ]
  },
  {
   "cell_type": "markdown",
   "id": "2d4871fb-d4de-45d9-a654-45db52a7ae3e",
   "metadata": {},
   "source": [
    "*****************\n",
    "Stacking and Splitting\n",
    "*****************"
   ]
  },
  {
   "cell_type": "code",
   "execution_count": 13,
   "id": "1c7b8d2d-4793-4f59-a23f-4c70a2075cf6",
   "metadata": {},
   "outputs": [
    {
     "name": "stdout",
     "output_type": "stream",
     "text": [
      "Vertical stacking:\n",
      " [[1 2]\n",
      " [3 4]\n",
      " [5 6]\n",
      " [7 8]]\n",
      "\n",
      "Horizantal stacking:\n",
      " [[1 2 5 6]\n",
      " [3 4 7 8]]\n",
      "\n",
      "Column stacking:\n",
      " [[1 2 5]\n",
      " [3 4 6]]\n",
      "\n",
      "Concatenating to 2nd axis:\n",
      " [[1 2 5 6]\n",
      " [3 4 7 8]]\n"
     ]
    }
   ],
   "source": [
    "a=np.array([[1,2],\n",
    "           [3,4]])\n",
    "\n",
    "b=np.array([[5,6],\n",
    "           [7,8]])\n",
    "\n",
    "print(\"Vertical stacking:\\n\",np.vstack((a,b)))\n",
    "print(\"\\nHorizantal stacking:\\n\",np.hstack((a,b)))\n",
    "\n",
    "c=[5,6]\n",
    "# stacking columns\n",
    "print(\"\\nColumn stacking:\\n\",np.column_stack((a,c)))\n",
    "#concatenation method\n",
    "print(\"\\nConcatenating to 2nd axis:\\n\",np.concatenate((a,b),1))\n"
   ]
  },
  {
   "cell_type": "code",
   "execution_count": 14,
   "id": "d7c16068-940f-454a-9b4b-fac61feb0d22",
   "metadata": {},
   "outputs": [
    {
     "name": "stdout",
     "output_type": "stream",
     "text": [
      "Splitting along horizontal axis into 2 parts:\n",
      " [array([[1, 3, 5],\n",
      "       [2, 4, 6]]), array([[ 7,  9, 11],\n",
      "       [ 8, 10, 12]])]\n",
      "Splitting along vertical axis into 2 parts:\n",
      " [array([[ 1,  3,  5,  7,  9, 11]]), array([[ 2,  4,  6,  8, 10, 12]])]\n"
     ]
    }
   ],
   "source": [
    "#Splitting\n",
    "a=np.array([[1,3,5,7,9,11],\n",
    "            [2,4,6,8,10,12]])\n",
    "# horizontal splitting\n",
    "print(\"Splitting along horizontal axis into 2 parts:\\n\",np.hsplit(a,2))\n",
    "\n",
    "# vertical splitting\n",
    "print(\"Splitting along vertical axis into 2 parts:\\n\",np.vsplit(a,2))"
   ]
  },
  {
   "cell_type": "code",
   "execution_count": null,
   "id": "562b1742-6d6a-4894-8a00-b20e09df2421",
   "metadata": {},
   "outputs": [],
   "source": []
  }
 ],
 "metadata": {
  "kernelspec": {
   "display_name": "Python [conda env:base] *",
   "language": "python",
   "name": "conda-base-py"
  },
  "language_info": {
   "codemirror_mode": {
    "name": "ipython",
    "version": 3
   },
   "file_extension": ".py",
   "mimetype": "text/x-python",
   "name": "python",
   "nbconvert_exporter": "python",
   "pygments_lexer": "ipython3",
   "version": "3.13.5"
  }
 },
 "nbformat": 4,
 "nbformat_minor": 5
}
